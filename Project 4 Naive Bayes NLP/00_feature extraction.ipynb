{
 "cells": [
  {
   "cell_type": "code",
   "execution_count": 91,
   "id": "973cad7c",
   "metadata": {},
   "outputs": [
    {
     "name": "stdout",
     "output_type": "stream",
     "text": [
      "This is a story about dogs\n",
      "our canine pets\n",
      "Dogs are furry animals\n",
      "\n"
     ]
    }
   ],
   "source": [
    "with open('One.txt', 'r') as file:\n",
    "    content = file.read()\n",
    "    print(content)"
   ]
  },
  {
   "cell_type": "code",
   "execution_count": 92,
   "id": "07183fd8",
   "metadata": {},
   "outputs": [
    {
     "name": "stdout",
     "output_type": "stream",
     "text": [
      "This story is about surfing\n",
      "Catching waves is fun\n",
      "Surfing is a popular water sport\n",
      "\n"
     ]
    }
   ],
   "source": [
    "with open('Two.txt', 'r') as file:\n",
    "    content2 = file.read()\n",
    "    print(content2)"
   ]
  },
  {
   "cell_type": "code",
   "execution_count": 93,
   "id": "5f582438",
   "metadata": {},
   "outputs": [
    {
     "data": {
      "text/plain": [
       "['this',\n",
       " 'is',\n",
       " 'a',\n",
       " 'story',\n",
       " 'about',\n",
       " 'dogs',\n",
       " 'our',\n",
       " 'canine',\n",
       " 'pets',\n",
       " 'dogs',\n",
       " 'are',\n",
       " 'furry',\n",
       " 'animals']"
      ]
     },
     "execution_count": 93,
     "metadata": {},
     "output_type": "execute_result"
    }
   ],
   "source": [
    "words = content.lower( ).split( )\n",
    "words"
   ]
  },
  {
   "cell_type": "code",
   "execution_count": 94,
   "id": "60eb8d46",
   "metadata": {},
   "outputs": [
    {
     "data": {
      "text/plain": [
       "{'a',\n",
       " 'about',\n",
       " 'animals',\n",
       " 'are',\n",
       " 'canine',\n",
       " 'dogs',\n",
       " 'furry',\n",
       " 'is',\n",
       " 'our',\n",
       " 'pets',\n",
       " 'story',\n",
       " 'this'}"
      ]
     },
     "execution_count": 94,
     "metadata": {},
     "output_type": "execute_result"
    }
   ],
   "source": [
    "uni_words_one = set(words)\n",
    "uni_words_one"
   ]
  },
  {
   "cell_type": "code",
   "execution_count": 95,
   "id": "56b4129e",
   "metadata": {},
   "outputs": [
    {
     "data": {
      "text/plain": [
       "{'a',\n",
       " 'about',\n",
       " 'catching',\n",
       " 'fun',\n",
       " 'is',\n",
       " 'popular',\n",
       " 'sport',\n",
       " 'story',\n",
       " 'surfing',\n",
       " 'this',\n",
       " 'water',\n",
       " 'waves'}"
      ]
     },
     "execution_count": 95,
     "metadata": {},
     "output_type": "execute_result"
    }
   ],
   "source": [
    "words2 = content2.lower( ).split( )\n",
    "uni_words_two = set(words2)\n",
    "uni_words_two"
   ]
  },
  {
   "cell_type": "code",
   "execution_count": 96,
   "id": "4c5461ac",
   "metadata": {},
   "outputs": [],
   "source": [
    "all_words = uni_words_one.union(uni_words_two)"
   ]
  },
  {
   "cell_type": "code",
   "execution_count": 97,
   "id": "0fd0ce96",
   "metadata": {},
   "outputs": [
    {
     "data": {
      "text/plain": [
       "{'story': 0,\n",
       " 'pets': 1,\n",
       " 'catching': 2,\n",
       " 'our': 3,\n",
       " 'is': 4,\n",
       " 'water': 5,\n",
       " 'dogs': 6,\n",
       " 'about': 7,\n",
       " 'surfing': 8,\n",
       " 'this': 9,\n",
       " 'furry': 10,\n",
       " 'waves': 11,\n",
       " 'animals': 12,\n",
       " 'a': 13,\n",
       " 'canine': 14,\n",
       " 'are': 15,\n",
       " 'sport': 16,\n",
       " 'fun': 17,\n",
       " 'popular': 18}"
      ]
     },
     "execution_count": 97,
     "metadata": {},
     "output_type": "execute_result"
    }
   ],
   "source": [
    "full_vocab = {}\n",
    "i = 0 \n",
    "for word in all_words:\n",
    "    full_vocab[word] = i\n",
    "    i += 1\n",
    "full_vocab"
   ]
  },
  {
   "cell_type": "code",
   "execution_count": 98,
   "id": "c3ee72a9",
   "metadata": {},
   "outputs": [],
   "source": [
    "one_frequency= [0] * len(full_vocab)\n",
    "two_frequency= [0] * len(full_vocab)\n",
    "all_words = [''] * len(full_vocab)"
   ]
  },
  {
   "cell_type": "code",
   "execution_count": 99,
   "id": "98e914ad",
   "metadata": {},
   "outputs": [
    {
     "data": {
      "text/plain": [
       "[0, 0, 0, 0, 0, 0, 0, 0, 0, 0, 0, 0, 0, 0, 0, 0, 0, 0, 0]"
      ]
     },
     "execution_count": 99,
     "metadata": {},
     "output_type": "execute_result"
    }
   ],
   "source": [
    "one_frequency"
   ]
  },
  {
   "cell_type": "code",
   "execution_count": 100,
   "id": "7bc6ddd7",
   "metadata": {},
   "outputs": [
    {
     "data": {
      "text/plain": [
       "[0, 0, 0, 0, 0, 0, 0, 0, 0, 0, 0, 0, 0, 0, 0, 0, 0, 0, 0]"
      ]
     },
     "execution_count": 100,
     "metadata": {},
     "output_type": "execute_result"
    }
   ],
   "source": [
    "two_frequency"
   ]
  },
  {
   "cell_type": "code",
   "execution_count": 101,
   "id": "3a8a1c34",
   "metadata": {},
   "outputs": [
    {
     "data": {
      "text/plain": [
       "['', '', '', '', '', '', '', '', '', '', '', '', '', '', '', '', '', '', '']"
      ]
     },
     "execution_count": 101,
     "metadata": {},
     "output_type": "execute_result"
    }
   ],
   "source": [
    "all_words"
   ]
  },
  {
   "cell_type": "code",
   "execution_count": 102,
   "id": "ae069a7c",
   "metadata": {},
   "outputs": [
    {
     "data": {
      "text/plain": [
       "['story',\n",
       " 'pets',\n",
       " 'catching',\n",
       " 'our',\n",
       " 'is',\n",
       " 'water',\n",
       " 'dogs',\n",
       " 'about',\n",
       " 'surfing',\n",
       " 'this',\n",
       " 'furry',\n",
       " 'waves',\n",
       " 'animals',\n",
       " 'a',\n",
       " 'canine',\n",
       " 'are',\n",
       " 'sport',\n",
       " 'fun',\n",
       " 'popular']"
      ]
     },
     "execution_count": 102,
     "metadata": {},
     "output_type": "execute_result"
    }
   ],
   "source": [
    "for word in full_vocab:\n",
    "    index = full_vocab[word]\n",
    "    all_words[index] = word\n",
    "all_words"
   ]
  },
  {
   "cell_type": "code",
   "execution_count": 103,
   "id": "7c7927cd",
   "metadata": {},
   "outputs": [],
   "source": [
    "# 1. take words and store unique words in vocabulary\n",
    "# 2. make a dcitionary and give unique number to each words from 0 to onward till length\n",
    "# based n unique words number store the words in list in index order"
   ]
  },
  {
   "cell_type": "code",
   "execution_count": 104,
   "id": "c187826d",
   "metadata": {},
   "outputs": [
    {
     "data": {
      "text/plain": [
       "[1, 1, 0, 1, 1, 0, 2, 1, 0, 1, 1, 0, 1, 1, 1, 1, 0, 0, 0]"
      ]
     },
     "execution_count": 104,
     "metadata": {},
     "output_type": "execute_result"
    }
   ],
   "source": [
    "# finding repaeing words\n",
    "with open('One.txt', 'r') as file:\n",
    "    content = file.read()\n",
    "    words = content.lower( ).split( )\n",
    "    for word in words:\n",
    "        index = full_vocab[word]\n",
    "        one_frequency[index] += 1\n",
    "one_frequency"
   ]
  },
  {
   "cell_type": "code",
   "execution_count": 105,
   "id": "4243a420",
   "metadata": {},
   "outputs": [
    {
     "data": {
      "text/plain": [
       "[1, 0, 1, 0, 3, 1, 0, 1, 2, 1, 0, 1, 0, 1, 0, 0, 1, 1, 1]"
      ]
     },
     "execution_count": 105,
     "metadata": {},
     "output_type": "execute_result"
    }
   ],
   "source": [
    "with open('Two.txt', 'r') as file:\n",
    "    content2 = file.read()\n",
    "    words2 = content2.lower( ).split( )\n",
    "    for word in words2:\n",
    "        index = full_vocab[word]\n",
    "        two_frequency[index] += 1\n",
    "two_frequency"
   ]
  },
  {
   "cell_type": "code",
   "execution_count": 108,
   "id": "bcef3d0e",
   "metadata": {},
   "outputs": [],
   "source": [
    "import pandas as pd"
   ]
  },
  {
   "cell_type": "code",
   "execution_count": 109,
   "id": "15dccb62",
   "metadata": {},
   "outputs": [],
   "source": [
    "data = pd.DataFrame({    'one_frequency': one_frequency,\n",
    "    'two_frequency': two_frequency})"
   ]
  },
  {
   "cell_type": "code",
   "execution_count": 111,
   "id": "1635c57e",
   "metadata": {},
   "outputs": [],
   "source": [
    "data.index = all_words"
   ]
  },
  {
   "cell_type": "code",
   "execution_count": 114,
   "id": "6b071bcd",
   "metadata": {},
   "outputs": [],
   "source": [
    "data = data.T"
   ]
  },
  {
   "cell_type": "code",
   "execution_count": 115,
   "id": "e4993357",
   "metadata": {},
   "outputs": [
    {
     "data": {
      "text/html": [
       "<div>\n",
       "<style scoped>\n",
       "    .dataframe tbody tr th:only-of-type {\n",
       "        vertical-align: middle;\n",
       "    }\n",
       "\n",
       "    .dataframe tbody tr th {\n",
       "        vertical-align: top;\n",
       "    }\n",
       "\n",
       "    .dataframe thead th {\n",
       "        text-align: right;\n",
       "    }\n",
       "</style>\n",
       "<table border=\"1\" class=\"dataframe\">\n",
       "  <thead>\n",
       "    <tr style=\"text-align: right;\">\n",
       "      <th></th>\n",
       "      <th>story</th>\n",
       "      <th>pets</th>\n",
       "      <th>catching</th>\n",
       "      <th>our</th>\n",
       "      <th>is</th>\n",
       "      <th>water</th>\n",
       "      <th>dogs</th>\n",
       "      <th>about</th>\n",
       "      <th>surfing</th>\n",
       "      <th>this</th>\n",
       "      <th>furry</th>\n",
       "      <th>waves</th>\n",
       "      <th>animals</th>\n",
       "      <th>a</th>\n",
       "      <th>canine</th>\n",
       "      <th>are</th>\n",
       "      <th>sport</th>\n",
       "      <th>fun</th>\n",
       "      <th>popular</th>\n",
       "    </tr>\n",
       "  </thead>\n",
       "  <tbody>\n",
       "    <tr>\n",
       "      <th>one_frequency</th>\n",
       "      <td>1</td>\n",
       "      <td>1</td>\n",
       "      <td>0</td>\n",
       "      <td>1</td>\n",
       "      <td>1</td>\n",
       "      <td>0</td>\n",
       "      <td>2</td>\n",
       "      <td>1</td>\n",
       "      <td>0</td>\n",
       "      <td>1</td>\n",
       "      <td>1</td>\n",
       "      <td>0</td>\n",
       "      <td>1</td>\n",
       "      <td>1</td>\n",
       "      <td>1</td>\n",
       "      <td>1</td>\n",
       "      <td>0</td>\n",
       "      <td>0</td>\n",
       "      <td>0</td>\n",
       "    </tr>\n",
       "    <tr>\n",
       "      <th>two_frequency</th>\n",
       "      <td>1</td>\n",
       "      <td>0</td>\n",
       "      <td>1</td>\n",
       "      <td>0</td>\n",
       "      <td>3</td>\n",
       "      <td>1</td>\n",
       "      <td>0</td>\n",
       "      <td>1</td>\n",
       "      <td>2</td>\n",
       "      <td>1</td>\n",
       "      <td>0</td>\n",
       "      <td>1</td>\n",
       "      <td>0</td>\n",
       "      <td>1</td>\n",
       "      <td>0</td>\n",
       "      <td>0</td>\n",
       "      <td>1</td>\n",
       "      <td>1</td>\n",
       "      <td>1</td>\n",
       "    </tr>\n",
       "  </tbody>\n",
       "</table>\n",
       "</div>"
      ],
      "text/plain": [
       "               story  pets  catching  our  is  water  dogs  about  surfing  \\\n",
       "one_frequency      1     1         0    1   1      0     2      1        0   \n",
       "two_frequency      1     0         1    0   3      1     0      1        2   \n",
       "\n",
       "               this  furry  waves  animals  a  canine  are  sport  fun  \\\n",
       "one_frequency     1      1      0        1  1       1    1      0    0   \n",
       "two_frequency     1      0      1        0  1       0    0      1    1   \n",
       "\n",
       "               popular  \n",
       "one_frequency        0  \n",
       "two_frequency        1  "
      ]
     },
     "execution_count": 115,
     "metadata": {},
     "output_type": "execute_result"
    }
   ],
   "source": [
    "data"
   ]
  },
  {
   "cell_type": "code",
   "execution_count": null,
   "id": "d722f88d",
   "metadata": {},
   "outputs": [],
   "source": []
  }
 ],
 "metadata": {
  "kernelspec": {
   "display_name": "base",
   "language": "python",
   "name": "python3"
  },
  "language_info": {
   "codemirror_mode": {
    "name": "ipython",
    "version": 3
   },
   "file_extension": ".py",
   "mimetype": "text/x-python",
   "name": "python",
   "nbconvert_exporter": "python",
   "pygments_lexer": "ipython3",
   "version": "3.13.2"
  }
 },
 "nbformat": 4,
 "nbformat_minor": 5
}
